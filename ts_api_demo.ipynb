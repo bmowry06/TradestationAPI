{
 "cells": [
  {
   "cell_type": "markdown",
   "id": "3e790f87-2213-4672-ac78-82415f1dc425",
   "metadata": {},
   "source": [
    "Authentication\n",
    "\n",
    "High level overview:    \n",
    "&emsp;&emsp;Use API key to generate a refresh token\\\n",
    "&emsp;&emsp;Use refresh token to generate an access token\\\n",
    "&emsp;&emsp;Use access token to make calls to Tradestation's servers\n",
    "\n",
    "Refresh tokens last forever by default\n",
    "Access tokens last for 20 minutes\n",
    "\n",
    "Quickly mention: can revoke all refresh tokens using https://signin.tradestation.com/oauth/revoke endpoint"
   ]
  },
  {
   "cell_type": "code",
   "execution_count": null,
   "id": "b4413ae5",
   "metadata": {},
   "outputs": [],
   "source": [
    "import json\n",
    "import requests\n",
    "import os\n",
    "\n",
    "# authentication requires your API credentials\n",
    "CLIENT_ID = os.environ.get('CLIENT_ID') # api key\n",
    "CLIENT_SECRET = os.environ.get('CLIENT_SECRET') # secret"
   ]
  },
  {
   "cell_type": "code",
   "execution_count": null,
   "id": "09544052-66d1-4090-8d57-2367b9d99f11",
   "metadata": {},
   "outputs": [],
   "source": [
    "# generate a refresh token\n",
    "# run this code block and then copy/paste the login URL into your brower and login with your TradeStation credentials\n",
    "print(f'https://signin.tradestation.com/authorize?response_type=code&client_id={CLIENT_ID}&audience=https%3A%2F%2Fapi.tradestation.com&redirect_uri=http%3A%2F%2Flocalhost%3A3000&scope=openid%20MarketData%20profile%20ReadAccount%20Trade%20offline_access%20Matrix%20OptionSpreads')"
   ]
  },
  {
   "cell_type": "code",
   "execution_count": null,
   "id": "fef39354",
   "metadata": {},
   "outputs": [],
   "source": [
    "# when you login, you will get a \"code\" returned in the URL\n",
    "# paste the \"code\" into this variable assignment statement and run this block\n",
    "CODE = ''\n",
    "\n",
    "# this request will get a new access token and refresh token\n",
    "# if desired, you can paste the refresh token above and rerun that code block\n",
    "# then after that, you can simply run the next code block anytime you need a new access token\n",
    "url = \"https://signin.tradestation.com/oauth/token\"\n",
    "\n",
    "payload=f'grant_type=authorization_code&client_id={CLIENT_ID}&client_secret={CLIENT_SECRET}&code={CODE}&redirect_uri=http%3A%2F%2Flocalhost%3A3000'\n",
    "headers = {\n",
    "  'Content-Type': 'application/x-www-form-urlencoded'\n",
    "}\n",
    "\n",
    "response = requests.request(\"POST\", url, headers=headers, data=payload)\n",
    "response_data = response.json()\n",
    "REFRESH_TOKEN = response_data['refresh_token']\n",
    "print('refresh_token: ', REFRESH_TOKEN)"
   ]
  },
  {
   "cell_type": "code",
   "execution_count": null,
   "id": "04c61362-7df2-4d02-b478-260566455639",
   "metadata": {},
   "outputs": [],
   "source": [
    "REFRESH_TOKEN = os.environ.get('REFRESH_TOKEN') # your refresh token"
   ]
  },
  {
   "cell_type": "code",
   "execution_count": null,
   "id": "7a8c4d54-0ed8-4902-8dd7-3779106509e2",
   "metadata": {},
   "outputs": [],
   "source": [
    "# this step will get a new access token using your refresh token when this function is called\n",
    "def get_access_token():\n",
    "    url = \"https://signin.tradestation.com/oauth/token\"\n",
    "\n",
    "    payload=f'grant_type=refresh_token&client_id={CLIENT_ID}&client_secret={CLIENT_SECRET}&refresh_token={REFRESH_TOKEN}'\n",
    "    headers = {\n",
    "      'Content-Type': 'application/x-www-form-urlencoded'\n",
    "    }\n",
    "\n",
    "    response = requests.request(\"POST\", url, headers=headers, data=payload)\n",
    "    response_data = response.json()\n",
    "    return response_data['access_token']"
   ]
  },
  {
   "cell_type": "markdown",
   "id": "386231dc-76e5-4bde-860e-b32271a79a9b",
   "metadata": {},
   "source": [
    "Simulation vs live connection\n",
    "\n",
    "To use sim, you use sim-api. To use live, you just use api.\n",
    "\n",
    "For example, for retrieving account information, the urls would look like the following:\\\n",
    "&emsp;&emsp;SIM: https://sim-api.tradestation.com/v3/brokerage/accounts \\\n",
    "&emsp;&emsp;Live: https://api.tradestation.com/v3/brokerage/accounts"
   ]
  },
  {
   "cell_type": "code",
   "execution_count": null,
   "id": "d7dbef75-fafa-4991-9f40-30e1b0b0bbe5",
   "metadata": {},
   "outputs": [],
   "source": [
    "core_url = \"https://sim-api.tradestation.com\""
   ]
  },
  {
   "cell_type": "code",
   "execution_count": null,
   "id": "bb25a7d1-8944-48ce-808a-35718481cb6e",
   "metadata": {},
   "outputs": [],
   "source": [
    "# get market data - snapshot\n",
    "access_token = get_access_token()\n",
    "\n",
    "url = f\"{core_url}/v3/marketdata/barcharts/@ES\"\n",
    "\n",
    "headers = {\"Authorization\": f'Bearer {access_token}'}\n",
    "\n",
    "params = {\n",
    "    \"unit\": \"Minute\",\n",
    "    \"interval\": \"5\",\n",
    "    \"barsback\": \"10\"\n",
    "}\n",
    "\n",
    "response = requests.request(\"GET\", url, headers=headers, params=params)\n",
    "\n",
    "response.json()"
   ]
  },
  {
   "cell_type": "code",
   "execution_count": null,
   "id": "fbe1ae54-816b-4e48-8751-bbbf9c0df24f",
   "metadata": {
    "scrolled": true
   },
   "outputs": [],
   "source": [
    "# get market data - streaming\n",
    "access_token = get_access_token()\n",
    "\n",
    "url = f\"{core_url}/v3/marketdata/stream/barcharts/@ES\"\n",
    "\n",
    "headers = {\"Authorization\": f'Bearer {access_token}'}\n",
    "\n",
    "params = {\n",
    "    \"unit\": \"Minute\",\n",
    "    \"interval\": \"5\",\n",
    "    \"barsback\": \"10\"\n",
    "}\n",
    "\n",
    "response = requests.request(\"GET\", url, headers=headers, params=params, stream=True)\n",
    "\n",
    "#print(response.text)\n",
    "for line in response.iter_lines():\n",
    "    if line:\n",
    "        print(line)"
   ]
  },
  {
   "cell_type": "code",
   "execution_count": null,
   "id": "f73453de-ab25-4686-80c4-dbb49eebe949",
   "metadata": {
    "scrolled": true
   },
   "outputs": [],
   "source": [
    "# get symbol details\n",
    "access_token = get_access_token()\n",
    "\n",
    "url = f\"{core_url}/v3/marketdata/symbols/@ES\"\n",
    "\n",
    "headers = {\"Authorization\": f'Bearer {access_token}'}\n",
    "\n",
    "response = requests.request(\"GET\", url, headers=headers)\n",
    "\n",
    "json_data = response.json()\n",
    "print(json.dumps(json_data, indent=4, sort_keys=False))"
   ]
  },
  {
   "cell_type": "code",
   "execution_count": null,
   "id": "569c9910-557c-4ce4-ac6b-f06894dec234",
   "metadata": {
    "scrolled": true
   },
   "outputs": [],
   "source": [
    "# get accounts\n",
    "\n",
    "access_token = get_access_token() # get a new access token\n",
    "url = f\"{core_url}/v3/brokerage/accounts\"\n",
    "\n",
    "headers = {'Authorization': f'Bearer {access_token}' }\n",
    "\n",
    "response = requests.request(\"GET\", url, headers=headers)\n",
    "json_data = response.json()\n",
    "print(json.dumps(json_data, indent=4, sort_keys=False))"
   ]
  },
  {
   "cell_type": "code",
   "execution_count": null,
   "id": "26b23267-62f6-4a07-baa4-e5a40a7ca613",
   "metadata": {},
   "outputs": [],
   "source": [
    "account_id = os.environ.get('ACCOUNT_ID')"
   ]
  },
  {
   "cell_type": "code",
   "execution_count": null,
   "id": "627caea5-c8b0-42ad-95c9-8957c2257592",
   "metadata": {},
   "outputs": [],
   "source": [
    "# get balances real time\n",
    "access_token = get_access_token()\n",
    "\n",
    "url = f\"{core_url}/v3/brokerage/accounts/{account_id}/balances\"\n",
    "\n",
    "headers = {\"Authorization\": f'Bearer {access_token}'}\n",
    "\n",
    "response = requests.request(\"GET\", url, headers=headers)\n",
    "\n",
    "print(response.text)"
   ]
  },
  {
   "cell_type": "code",
   "execution_count": null,
   "id": "d4478c0f-02ae-4771-82ef-8d77d07d3c53",
   "metadata": {
    "scrolled": true
   },
   "outputs": [],
   "source": [
    "# get balance beginning of day\n",
    "access_token = get_access_token()\n",
    "\n",
    "url = f\"{core_url}/v3/brokerage/accounts/{account_id}/bodbalances\"\n",
    "\n",
    "headers = {\"Authorization\": f'Bearer {access_token}'}\n",
    "\n",
    "response = requests.request(\"GET\", url, headers=headers)\n",
    "\n",
    "print(response.text)"
   ]
  },
  {
   "cell_type": "code",
   "execution_count": null,
   "id": "bc61784e-d9c6-4099-951e-84855fe86881",
   "metadata": {},
   "outputs": [],
   "source": [
    "# get historical orders\n",
    "access_token = get_access_token()\n",
    "\n",
    "url = f\"{core_url}/v3/brokerage/accounts/{account_id}/historicalorders\"\n",
    "\n",
    "querystring = {\"since\":\"2024-09-01\"}\n",
    "\n",
    "headers = {\"Authorization\": f'Bearer {access_token}'}\n",
    "\n",
    "response = requests.request(\"GET\", url, headers=headers, params=querystring)\n",
    "\n",
    "print(response.text)"
   ]
  },
  {
   "cell_type": "code",
   "execution_count": null,
   "id": "b59e75ab-753f-44cf-9d81-35f5be122a49",
   "metadata": {
    "scrolled": true
   },
   "outputs": [],
   "source": [
    "# get current orders - today's orders + active orders\n",
    "access_token = get_access_token()\n",
    "\n",
    "url = f\"{core_url}/v3/brokerage/accounts/{account_id}/orders\"\n",
    "\n",
    "headers = {\"Authorization\": f'Bearer {access_token}'}\n",
    "\n",
    "response = requests.request(\"GET\", url, headers=headers)\n",
    "json_data = response.json()\n",
    "print(json.dumps(json_data, indent=4, sort_keys=False))"
   ]
  },
  {
   "cell_type": "code",
   "execution_count": null,
   "id": "fce052ce-e674-4511-a7b5-e8942d0f7fe9",
   "metadata": {},
   "outputs": [],
   "source": [
    "# stream orders\n",
    "access_token = get_access_token()\n",
    "\n",
    "url = f\"{core_url}/v3/brokerage/stream/accounts/{account_id}/orders\"\n",
    "\n",
    "headers = {\"Authorization\": f'Bearer {access_token}'}\n",
    "\n",
    "response = requests.request(\"GET\", url, headers=headers, stream=True)\n",
    "\n",
    "for line in response.iter_lines():\n",
    "    if line:\n",
    "        print(line)"
   ]
  },
  {
   "cell_type": "code",
   "execution_count": null,
   "id": "c03d1d3e-5f58-4db8-981a-08cf1d27b02b",
   "metadata": {},
   "outputs": [],
   "source": [
    "# get positions\n",
    "access_token = get_access_token()\n",
    "\n",
    "url = f\"{core_url}/v3/brokerage/accounts/{account_id}/positions\"\n",
    "\n",
    "headers = {\"Authorization\": f'Bearer {access_token}'}\n",
    "\n",
    "response = requests.request(\"GET\", url, headers=headers)\n",
    "\n",
    "print(response.text)"
   ]
  },
  {
   "cell_type": "code",
   "execution_count": null,
   "id": "d737ceac-83f8-4742-af22-814d39020602",
   "metadata": {},
   "outputs": [],
   "source": [
    "# stream positions\n",
    "access_token = get_access_token()\n",
    "\n",
    "url = f\"{core_url}/v3/brokerage/stream/accounts/{account_id}/positions\"\n",
    "\n",
    "headers = {\"Authorization\": f'Bearer {access_token}'}\n",
    "\n",
    "response = requests.request(\"GET\", url, headers=headers, stream=True)\n",
    "\n",
    "for line in response.iter_lines():\n",
    "    if line:\n",
    "        print(line)"
   ]
  },
  {
   "cell_type": "code",
   "execution_count": null,
   "id": "7ea7f5e3-0f08-4919-8271-5bfdf73b092b",
   "metadata": {},
   "outputs": [],
   "source": [
    "# confirm order\n",
    "access_token = get_access_token()\n",
    "\n",
    "url = f\"{core_url}/v3/orderexecution/orderconfirm\"\n",
    "\n",
    "payload = {\n",
    "    \"AccountID\": account_id,\n",
    "    \"Symbol\": \"ESZ24\",\n",
    "    \"Quantity\": \"1\",\n",
    "    \"OrderType\": \"Market\",\n",
    "    \"TradeAction\": \"SELL\",\n",
    "    \"TimeInForce\": {\"Duration\": \"DAY\"},\n",
    "    \"Route\": \"Intelligent\"\n",
    "}\n",
    "headers = {\n",
    "    \"content-type\": \"application/json\",\n",
    "    \"Authorization\": f'Bearer {access_token}'\n",
    "}\n",
    "\n",
    "response = requests.request(\"POST\", url, json=payload, headers=headers)\n",
    "\n",
    "#print(response.text)\n",
    "json_data = response.json()\n",
    "print(json.dumps(json_data, indent=4, sort_keys=False))"
   ]
  },
  {
   "cell_type": "code",
   "execution_count": null,
   "id": "744f2def-850c-4789-ad03-bf323ac5dd25",
   "metadata": {},
   "outputs": [],
   "source": [
    "# place order\n",
    "access_token = get_access_token()\n",
    "\n",
    "url = f\"{core_url}/v3/orderexecution/orders\"\n",
    "\n",
    "payload = {\n",
    "    \"AccountID\": account_id,\n",
    "    \"Symbol\": \"ESZ24\",\n",
    "    \"Quantity\": \"1\",\n",
    "    \"OrderType\": \"Market\",\n",
    "    \"TradeAction\": \"SELL\",\n",
    "    \"TimeInForce\": {\"Duration\": \"DAY\"},\n",
    "    \"Route\": \"Intelligent\"\n",
    "}\n",
    "headers = {\n",
    "    \"content-type\": \"application/json\",\n",
    "    \"Authorization\": f'Bearer {access_token}'\n",
    "}\n",
    "\n",
    "response = requests.request(\"POST\", url, json=payload, headers=headers)\n",
    "\n",
    "print(response.text)"
   ]
  },
  {
   "cell_type": "code",
   "execution_count": null,
   "id": "cde76e2f-90f2-43cd-a242-17159a546820",
   "metadata": {},
   "outputs": [],
   "source": [
    "# cancel order\n",
    "access_token = get_access_token()\n",
    "\n",
    "order_id = \n",
    "url = f\"{core_url}/v3/orderexecution/orders/{order_id}\"\n",
    "\n",
    "headers = {\"Authorization\": f'Bearer {access_token}'}\n",
    "\n",
    "response = requests.request(\"DELETE\", url, headers=headers)\n",
    "\n",
    "print(response.text)"
   ]
  },
  {
   "cell_type": "code",
   "execution_count": null,
   "id": "7db71e9e-c523-40ae-bf7a-8fca7dc55b45",
   "metadata": {
    "scrolled": true
   },
   "outputs": [],
   "source": [
    "# get routes\n",
    "access_token = get_access_token()\n",
    "\n",
    "url = f\"{core_url}/v3/orderexecution/routes\"\n",
    "\n",
    "headers = {\"Authorization\": f'Bearer {access_token}'}\n",
    "\n",
    "response = requests.request(\"GET\", url, headers=headers)\n",
    "\n",
    "\n",
    "json_data = response.json()\n",
    "print(json.dumps(json_data, indent=4, sort_keys=False))"
   ]
  },
  {
   "cell_type": "code",
   "execution_count": null,
   "id": "7908fc05-c475-47e4-bea9-ed1d84d7c140",
   "metadata": {
    "scrolled": true
   },
   "outputs": [],
   "source": [
    "# stream tick bars\n",
    "access_token = get_access_token()\n",
    "\n",
    "# {symbol}/{interval}/{barsBack}\n",
    "url = f\"{core_url}/v2/stream/tickbars/@ES/100/5\"\n",
    "\n",
    "headers = {\"Authorization\": f'Bearer {access_token}'}\n",
    "\n",
    "response = requests.request(\"GET\", url, headers=headers, stream=True)\n",
    "\n",
    "for line in response.iter_lines():\n",
    "    if line:\n",
    "        print(line)"
   ]
  },
  {
   "cell_type": "code",
   "execution_count": null,
   "id": "e6d8f884-f389-4ec6-b888-7a3bacca8b9c",
   "metadata": {},
   "outputs": [],
   "source": [
    "# automated contract roll for futures\n",
    "symbol = \"ESU24\" \n",
    "position = 1\n",
    "\n",
    "access_token = get_access_token()\n",
    "\n",
    "url = f\"{core_url}/v3/marketdata/symbols/@ES\"\n",
    "\n",
    "headers = {\"Authorization\": f'Bearer {access_token}'}\n",
    "\n",
    "response = requests.request(\"GET\", url, headers=headers)\n",
    "\n",
    "json_data = response.json()\n",
    "\n",
    "top_month_contract = json_data['Symbols'][0]['Underlying']\n",
    "print(top_month_contract)\n",
    "\n",
    "# if the contract we're trading does not match the top month\n",
    "if symbol != top_month_contract:\n",
    "    # if we have a position\n",
    "    if position != 0:\n",
    "        # exit the position in the old contract\n",
    "        placeOrder(symbol, -1 * position)\n",
    "        # update our contract to the top month\n",
    "        symbol = top_month_contract\n",
    "        # re-open our position in the new contract\n",
    "        placeOrder(symbol, position)\n",
    "    else:\n",
    "        # update our contract to the top month\n",
    "        symbol = top_month_contract"
   ]
  },
  {
   "cell_type": "code",
   "execution_count": null,
   "id": "929348d0-2387-41e1-8f83-d75d2f93feeb",
   "metadata": {},
   "outputs": [],
   "source": []
  }
 ],
 "metadata": {
  "kernelspec": {
   "display_name": "Python 3 (ipykernel)",
   "language": "python",
   "name": "python3"
  },
  "language_info": {
   "codemirror_mode": {
    "name": "ipython",
    "version": 3
   },
   "file_extension": ".py",
   "mimetype": "text/x-python",
   "name": "python",
   "nbconvert_exporter": "python",
   "pygments_lexer": "ipython3",
   "version": "3.12.4"
  }
 },
 "nbformat": 4,
 "nbformat_minor": 5
}
